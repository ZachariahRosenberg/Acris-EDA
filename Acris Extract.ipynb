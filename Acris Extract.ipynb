{
 "cells": [
  {
   "cell_type": "code",
   "execution_count": 2,
   "metadata": {
    "ExecuteTime": {
     "end_time": "2021-03-16T14:30:46.047643Z",
     "start_time": "2021-03-16T14:30:44.047036Z"
    }
   },
   "outputs": [],
   "source": [
    "import os, threading, concurrent.futures, sys, pickle, time, gc\n",
    "import pandas as pd, numpy as np\n",
    "from sodapy          import Socrata\n",
    "from tqdm.notebook   import tqdm\n",
    "from dotenv          import load_dotenv\n",
    "import plotly.express as px\n",
    "\n",
    "load_dotenv()\n",
    "pd.set_option('display.max_rows', 200)"
   ]
  },
  {
   "cell_type": "markdown",
   "metadata": {},
   "source": [
    "Link to ACRIS download on Open NYC:\n",
    "https://data.cityofnewyork.us/City-Government/ACRIS-Personal-Property-Master/sv7x-dduq\n",
    "\n",
    "Link to ACRIS Document:\n",
    "https://data.cityofnewyork.us/api/assets/F5C33BBE-4CF8-44EF-9160-BC3B83893C51?download=true"
   ]
  },
  {
   "cell_type": "markdown",
   "metadata": {},
   "source": [
    "|Record Type|Dataset Title|Url|Description|\n",
    "|:--|:--|:--|:--|\n",
    "|Master record|ACRIS - Real Property Master|http://data.cityofnewyork.us/City-Government/ACRIS-Real-Property-Master/bnx9-e6tj |Document Details for Real Property Related Documents Recorded in ACRIS|\n",
    "|Lot(property) record|ACRIS - Real Property Legals|http://data.cityofnewyork.us/City-Government/ACRIS-Real-Property-Legals/8h5j-fqxa |Property Details for Real Property Related Documents Recorded in ACRIS|\n",
    "|Party record|ACRIS - Real Property Parties| http://data.cityofnewyork.us/City-Government/ACRIS-Real-Property-Parties/636b-3b5g |Party Names for Real Property Related Documents Recorded in ACRIS |\n",
    "|Cross-reference record|ACRIS - Real Property References|http://data.cityofnewyork.us/City-Government/ACRIS-Real-Property-References/pwkr-dpni |Document Cross References for Real Property Related Documents Recorded in ACRIS |\n",
    "|Remarks record|ACRIS - Real Property Remarks|http://data.cityofnewyork.us/City-Government/ACRIS-Real-Property-Remarks/9p4w-7npp |Document Remarks for Real Property Related Documents Recorded in ACRIS |\n",
    "|Acris Party Types|ACRIS - Document Control Codes|https://data.cityofnewyork.us/City-Government/ACRIS-Document-Control-Codes/7isb-wh4c | ACRIS Document Type and Class Code mappings for Codes in the ACRIS Real and Personal Property Master Datasets|\n",
    "|Energy Consumption|Local Law 84: Energy and Water Consumption|https://data.cityofnewyork.us/Environment/Energy-and-Water-Data-Disclosure-for-Local-Law-84-/qb3v-bbre | Data and metrics on water and energy consumption in buildings over 25,000 ft2|\n"
   ]
  },
  {
   "cell_type": "markdown",
   "metadata": {},
   "source": [
    "Party 1: Borrower, Party 2: Lender"
   ]
  },
  {
   "cell_type": "markdown",
   "metadata": {},
   "source": [
    "# Load ACRIS Data"
   ]
  },
  {
   "cell_type": "code",
   "execution_count": null,
   "metadata": {
    "ExecuteTime": {
     "end_time": "2021-01-19T19:30:07.333612Z",
     "start_time": "2021-01-19T19:30:07.307594Z"
    },
    "code_folding": [
     69,
     75,
     140,
     176,
     197,
     213,
     226
    ]
   },
   "outputs": [],
   "source": [
    "class ACRIS_EXTRACT:\n",
    "    \n",
    "    def __init__(self, load_data=False):\n",
    "        '''\n",
    "        Class extracts, pickles and loads ACRIS data for the following ACRIS tables:\n",
    "        Master - Document Details for Real Property Related Documents Recorded in ACRIS\n",
    "        Property - Property Details for Real Property Related Documents Recorded in ACRIS\n",
    "        Party - Party Names for Real Property Related Documents Recorded in ACRIS\n",
    "        Energy - Local Law 84 Data and metrics on water and energy consumption in buildings over 25,000 ft2.\n",
    "        \n",
    "        Details can be found here https://data.cityofnewyork.us/api/assets/F5C33BBE-4CF8-44EF-9160-BC3B83893C51?download=true\n",
    "        or from the NYC Open Data Site, https://opendata.cityofnewyork.us/\n",
    "        \n",
    "        NOTE: LL84 data is being supplied by Alejandro @ NYU. Extraction from NYC Open Data has been commented out\n",
    "        \n",
    "        Params:\n",
    "        :load_data: - Boolean, if True, will automatically begin extracting data from ACRIS on init.\n",
    "        '''\n",
    "\n",
    "        self.datasets = {\n",
    "            #DB Name, ACRIS ID, approximate n_records for progress bar\n",
    "            'master'  : {'acris_id': 'bnx9-e6tj', 'n_records': 15200000,  'data': None},\n",
    "            'property': {'acris_id': '8h5j-fqxa', 'n_records': 20000000,  'data': None},\n",
    "            'party'   : {'acris_id': '636b-3b5g', 'n_records': 40000000,  'data': None},\n",
    "#             'energy'  : {'acris_id': 'qb3v-bbre', 'n_records': 19404,     'data': None}\n",
    "        }\n",
    "        \n",
    "        self.base_query_kwargs={\n",
    "            # System fields, such as updated date. Limit by records sinnce 2010\n",
    "            'exclude_system_fields': False,\n",
    "            'where': \"good_through_date > '2010-01-01'\"\n",
    "        }\n",
    "        \n",
    "        self.dataset_query_kwargs = {\n",
    "            # per dataset query filters\n",
    "            'master': {\n",
    "#                 'doc_type': 'MTGE',\n",
    "                'select': ','.join(['document_id', 'doc_type', 'document_amt', 'recorded_datetime']),\n",
    "                **self.base_query_kwargs\n",
    "            },\n",
    "            'property': {\n",
    "#                 'property_type': 'AP',\n",
    "                'select': ','.join(['document_id', 'street_number', 'street_name', 'borough', 'block', 'lot', 'property_type', 'good_through_date']),\n",
    "                **self.base_query_kwargs\n",
    "            },\n",
    "            'party': {\n",
    "                'select': ','.join(['document_id', 'party_type', 'name', 'address_1', 'address_2', 'city', 'state', 'zip', 'country', 'good_through_date']),\n",
    "                **self.base_query_kwargs\n",
    "            },\n",
    "            'energy': {\n",
    "                'largest_property_use_type': 'Multifamily Housing',\n",
    "                'exclude_system_fields': False\n",
    "            }\n",
    "        }\n",
    "        \n",
    "        # Used if extraction is interrupted to save locally\n",
    "        self.checkpoint_data = None\n",
    "        \n",
    "        self.client = Socrata(\n",
    "            'data.cityofnewyork.us',\n",
    "            os.getenv(\"SOCRATA_KEY\"),\n",
    "            username=os.getenv(\"SOCRATA_USER\"), \n",
    "            password=os.getenv(\"SOCRATA_PASS\")\n",
    "        )\n",
    "        self.client.timeout = 60\n",
    "        \n",
    "        if load_data:\n",
    "            self.load_data()\n",
    "    \n",
    "    def retrieve_acris_records(self, acris_dataset_id, query_kwargs):\n",
    "        '''\n",
    "        This method is called by individual workers from the batch_retrieve_acris_records method.\n",
    "        '''\n",
    "        return self.client.get(acris_dataset_id, **query_kwargs)\n",
    "    \n",
    "    def batch_retrieve_acris_records(self, dataset_dict, query_kwargs, n_threads=5, offset=0, checkpoint_after_rounds=10):\n",
    "        '''\n",
    "        This method spins up multiple parallel workers to extract ACRIs data.\n",
    "        Method also allows for checkpointing of data incase of interruption.\n",
    "        '''\n",
    "        \n",
    "        finished = False\n",
    "        records  = []\n",
    "        \n",
    "        # Limit of ACRIS records per request\n",
    "        records_per_request = 1000\n",
    "        \n",
    "        p_bar = tqdm(total=dataset_dict['n_records'])\n",
    "        with concurrent.futures.ThreadPoolExecutor(max_workers=n_threads) as executor:\n",
    "            futures = []\n",
    "            query_kwargs['limit'] = records_per_request\n",
    "            \n",
    "            # initial thread send\n",
    "            for n in range(n_threads):\n",
    "                query_kwargs['offset'] = offset\n",
    "                futures.append(executor.submit(self.retrieve_acris_records, dataset_dict['acris_id'], query_kwargs))\n",
    "                offset += records_per_request\n",
    "                \n",
    "            # as threads come in, process result and resend. End when all workers finish and nothing left in queue\n",
    "            while len(futures) > 0:\n",
    "                # Loop through futures and process if f.done()\n",
    "                for i, f in enumerate(futures):\n",
    "                    \n",
    "                    if f.done():\n",
    "                        # remove from futures queue\n",
    "                        del futures[i]\n",
    "                        \n",
    "                        # Save records to class checkpoint in case of interruption\n",
    "                        if offset % (checkpoint_after_rounds * records_per_request) == 0:\n",
    "                            self.checkpoint_data = records\n",
    "\n",
    "                        try:\n",
    "                            # Check if results are empty\n",
    "                            results = f.result()                            \n",
    "                            if len(results) == 0:\n",
    "                                finished = True # flags other threads not to resend\n",
    "                                continue\n",
    "                            \n",
    "                            # save results\n",
    "                            records.extend(results)\n",
    "                            p_bar.update(len(results))\n",
    "\n",
    "                            # resend thread for new batch\n",
    "                            if not finished:\n",
    "                                query_kwargs['offset'] = offset\n",
    "                                futures.append(executor.submit(self.retrieve_acris_records, dataset_dict['acris_id'], query_kwargs))\n",
    "                                offset += len(results)\n",
    "\n",
    "                        except ValueError:\n",
    "                            print('ValueError:', ValueError)\n",
    "                            continue\n",
    "                        except NameError:\n",
    "                            print('NameError:', NameError)\n",
    "                            continue\n",
    "        \n",
    "        # Combine all data into Dataframe\n",
    "        records_df = pd.DataFrame.from_records(records)\n",
    "        \n",
    "        return records_df\n",
    "    \n",
    "    def load_data(self):\n",
    "        '''\n",
    "        For each dataset in self.datasets, checks if there is a local file named acris_{dataset}.csv.\n",
    "        If data not local, extracts each dataset from ACRIS. Uses batch_retrieve_acris_records for extraction.\n",
    "        '''\n",
    "        for dataset in self.datasets.keys():\n",
    "            \n",
    "            start_time = time.time()\n",
    "            print(f\"Loading dataset {dataset}. Approx ~{self.datasets[dataset]['n_records']} records.\")\n",
    "            \n",
    "            # Check if we already have data saved locally\n",
    "            if os.path.isfile(f'./acris_{dataset}.csv'):\n",
    "                self.datasets[dataset]['data'] = pd.read_csv(f'./acris_{dataset}.csv')\n",
    "\n",
    "            else: # Download from ACRIS\n",
    "                \n",
    "                database_dict = self.datasets[dataset]\n",
    "                query_kwargs  = self.dataset_query_kwargs[dataset]\n",
    "    \n",
    "                try:\n",
    "                    self.datasets[dataset]['data'] = self.batch_retrieve_acris_records(database_dict, query_kwargs)\n",
    "                except:\n",
    "                    # Save checkpoint data to pickle file\n",
    "                    self.pickle_checkpoint_data()\n",
    "                    \n",
    "                    import traceback\n",
    "                    traceback.print_exc()\n",
    "                \n",
    "                # Save records as CSV\n",
    "                self.datasets[dataset]['data'].to_csv(f'./acris_{dataset}.csv')\n",
    "            \n",
    "            # Logging statistics\n",
    "            memory_usage = round(self.datasets[dataset]['data'].memory_usage().sum() / 1000000, 2)\n",
    "            time_elapsed = round(time.time() - start_time, 2)\n",
    "            print(f'{dataset} loaded in {time_elapsed} seconds. {memory_usage}MB memory.')\n",
    "\n",
    "    def combine_datasets(self):\n",
    "        '''\n",
    "        The data is extracted individually by dataset and stored independent of one another.\n",
    "        This method joins the master, property and party datsets together into a unified table. \n",
    "        This method can take over an hour.\n",
    "        It also creates a BBL column.\n",
    "        '''\n",
    "        master = self.datasets['master']['data']\n",
    "        props  = self.datasets['property']['data']\n",
    "        party  = self.datasets['party']['data']\n",
    "        # Left out energy data per use case.\n",
    "                  \n",
    "        # Create BBL Column\n",
    "        props['BBL'] = props.borough.astype(str) + props.block.astype(str).str.zfill(5) + props.lot.astype(str).str.zfill(4)\n",
    "        \n",
    "        mp = master.merge(props, on='document_id', suffixes=('', '_prop'))\n",
    "        mpp = mp.merge(party, on='document_id', suffixes=('', '_party'))\n",
    "        \n",
    "        # Save consolidated file locally\n",
    "        mpp.to_csv(f'./acris_consolidated.csv')\n",
    "                  \n",
    "    def pickle_checkpoint_data(self, batch_size=None):\n",
    "        '''\n",
    "        This method is mainly used in the event that there is an error or interruption in the ACRIS extraction\n",
    "        It saves the data from memory (self.checkpoint) to a batch of pickle files. \n",
    "        '''\n",
    "                  \n",
    "        if batch_size is None:\n",
    "            batch_size = len(self.checkpoint_data) // 4\n",
    "        \n",
    "        n_batches = len(self.checkpoint_data) // batch_size + 1\n",
    "        \n",
    "        for batch_i in tqdm(range(n_batches+1)):\n",
    "            data = acris.checkpoint_data[batch_i*batch_size : (batch_i+1)*batch_size]\n",
    "            with open(f'./checkpoint_{batch_i}.pickle', 'wb') as pkl:\n",
    "                pickle.dump(data, pkl)\n",
    "                \n",
    "    def load_pickled_data_into_checkpoint(self):\n",
    "        '''\n",
    "        This method is used when there was an error extracting ACRIS data and the checkpointed data was saved locally\n",
    "        as pickle files. Use this method to loop through local pickle files and load records.\n",
    "        '''\n",
    "        records = []\n",
    "        \n",
    "        # hard code highest pickle file name + 1 (e.g. checkpoint_5.pickle = range(6))\n",
    "        for i in tqdm(range(119)):\n",
    "            records.extend(pd.read_pickle(f'./checkpoint_{i}.pickle'))\n",
    "        \n",
    "        self.checkpoint = records[:]\n",
    "        \n",
    "    def commit_checkpoint_data_into_data_record(self, dataset):\n",
    "        '''\n",
    "        After loading picked data from load_pickled_data_into_checkpoint, use this method to \n",
    "        commit that data to a dataset. For example:\n",
    "        self.load_pickled_data_into_checkpoint()\n",
    "        self.commit_checkpoint_data_into_data_record('master')\n",
    "        \n",
    "        Data daved to self.dataset.master.data\n",
    "        '''\n",
    "        \n",
    "        if dataset not in self.datasets.keys():\n",
    "            raise 'Dataset not found'\n",
    "        \n",
    "        self.datasets[dataset]['data']      = pd.DataFrame.from_records(self.checkpoint)\n",
    "        self.datasets[dataset]['n_records'] = len(self.datasets[dataset]['data'])"
   ]
  },
  {
   "cell_type": "code",
   "execution_count": null,
   "metadata": {
    "ExecuteTime": {
     "start_time": "2021-01-19T19:30:07.725Z"
    },
    "scrolled": false
   },
   "outputs": [],
   "source": [
    "acris = ACRIS_EXTRACT(load_data=True)\n",
    "acris.combine_datasets()"
   ]
  },
  {
   "cell_type": "markdown",
   "metadata": {},
   "source": [
    "# Combine ACRIS with LL84 Data"
   ]
  },
  {
   "cell_type": "code",
   "execution_count": 3,
   "metadata": {
    "ExecuteTime": {
     "end_time": "2021-03-16T14:30:58.039674Z",
     "start_time": "2021-03-16T14:30:51.364029Z"
    }
   },
   "outputs": [
    {
     "ename": "KeyboardInterrupt",
     "evalue": "",
     "output_type": "error",
     "traceback": [
      "\u001b[0;31m---------------------------------------------------------------------------\u001b[0m",
      "\u001b[0;31mKeyboardInterrupt\u001b[0m                         Traceback (most recent call last)",
      "\u001b[0;32m<ipython-input-3-ec349fdd7d18>\u001b[0m in \u001b[0;36m<module>\u001b[0;34m\u001b[0m\n\u001b[1;32m      1\u001b[0m \u001b[0;31m# Acris Data (Supplied from ACRIS_EXTRACT)\u001b[0m\u001b[0;34m\u001b[0m\u001b[0;34m\u001b[0m\u001b[0;34m\u001b[0m\u001b[0m\n\u001b[0;32m----> 2\u001b[0;31m \u001b[0macris_data\u001b[0m \u001b[0;34m=\u001b[0m \u001b[0mpd\u001b[0m\u001b[0;34m.\u001b[0m\u001b[0mread_csv\u001b[0m\u001b[0;34m(\u001b[0m\u001b[0;34m'acris_consolidated.csv'\u001b[0m\u001b[0;34m)\u001b[0m\u001b[0;34m\u001b[0m\u001b[0;34m\u001b[0m\u001b[0m\n\u001b[0m\u001b[1;32m      3\u001b[0m \u001b[0;34m\u001b[0m\u001b[0m\n\u001b[1;32m      4\u001b[0m \u001b[0;31m# LL84 Data (Supplied by Alejandro @ NYU. This can also be supplied by ACRIS_EXTRACT)\u001b[0m\u001b[0;34m\u001b[0m\u001b[0;34m\u001b[0m\u001b[0;34m\u001b[0m\u001b[0m\n\u001b[1;32m      5\u001b[0m \u001b[0mll\u001b[0m \u001b[0;34m=\u001b[0m \u001b[0mpd\u001b[0m\u001b[0;34m.\u001b[0m\u001b[0mread_excel\u001b[0m\u001b[0;34m(\u001b[0m\u001b[0;34m'LL84_2020.xlsx'\u001b[0m\u001b[0;34m)\u001b[0m\u001b[0;31m \u001b[0m\u001b[0;31m\\\u001b[0m\u001b[0;34m\u001b[0m\u001b[0;34m\u001b[0m\u001b[0m\n",
      "\u001b[0;32m~/miniconda3/envs/ai/lib/python3.6/site-packages/pandas/io/parsers.py\u001b[0m in \u001b[0;36mparser_f\u001b[0;34m(filepath_or_buffer, sep, delimiter, header, names, index_col, usecols, squeeze, prefix, mangle_dupe_cols, dtype, engine, converters, true_values, false_values, skipinitialspace, skiprows, skipfooter, nrows, na_values, keep_default_na, na_filter, verbose, skip_blank_lines, parse_dates, infer_datetime_format, keep_date_col, date_parser, dayfirst, cache_dates, iterator, chunksize, compression, thousands, decimal, lineterminator, quotechar, quoting, doublequote, escapechar, comment, encoding, dialect, error_bad_lines, warn_bad_lines, delim_whitespace, low_memory, memory_map, float_precision)\u001b[0m\n\u001b[1;32m    674\u001b[0m         )\n\u001b[1;32m    675\u001b[0m \u001b[0;34m\u001b[0m\u001b[0m\n\u001b[0;32m--> 676\u001b[0;31m         \u001b[0;32mreturn\u001b[0m \u001b[0m_read\u001b[0m\u001b[0;34m(\u001b[0m\u001b[0mfilepath_or_buffer\u001b[0m\u001b[0;34m,\u001b[0m \u001b[0mkwds\u001b[0m\u001b[0;34m)\u001b[0m\u001b[0;34m\u001b[0m\u001b[0;34m\u001b[0m\u001b[0m\n\u001b[0m\u001b[1;32m    677\u001b[0m \u001b[0;34m\u001b[0m\u001b[0m\n\u001b[1;32m    678\u001b[0m     \u001b[0mparser_f\u001b[0m\u001b[0;34m.\u001b[0m\u001b[0m__name__\u001b[0m \u001b[0;34m=\u001b[0m \u001b[0mname\u001b[0m\u001b[0;34m\u001b[0m\u001b[0;34m\u001b[0m\u001b[0m\n",
      "\u001b[0;32m~/miniconda3/envs/ai/lib/python3.6/site-packages/pandas/io/parsers.py\u001b[0m in \u001b[0;36m_read\u001b[0;34m(filepath_or_buffer, kwds)\u001b[0m\n\u001b[1;32m    452\u001b[0m \u001b[0;34m\u001b[0m\u001b[0m\n\u001b[1;32m    453\u001b[0m     \u001b[0;32mtry\u001b[0m\u001b[0;34m:\u001b[0m\u001b[0;34m\u001b[0m\u001b[0;34m\u001b[0m\u001b[0m\n\u001b[0;32m--> 454\u001b[0;31m         \u001b[0mdata\u001b[0m \u001b[0;34m=\u001b[0m \u001b[0mparser\u001b[0m\u001b[0;34m.\u001b[0m\u001b[0mread\u001b[0m\u001b[0;34m(\u001b[0m\u001b[0mnrows\u001b[0m\u001b[0;34m)\u001b[0m\u001b[0;34m\u001b[0m\u001b[0;34m\u001b[0m\u001b[0m\n\u001b[0m\u001b[1;32m    455\u001b[0m     \u001b[0;32mfinally\u001b[0m\u001b[0;34m:\u001b[0m\u001b[0;34m\u001b[0m\u001b[0;34m\u001b[0m\u001b[0m\n\u001b[1;32m    456\u001b[0m         \u001b[0mparser\u001b[0m\u001b[0;34m.\u001b[0m\u001b[0mclose\u001b[0m\u001b[0;34m(\u001b[0m\u001b[0;34m)\u001b[0m\u001b[0;34m\u001b[0m\u001b[0;34m\u001b[0m\u001b[0m\n",
      "\u001b[0;32m~/miniconda3/envs/ai/lib/python3.6/site-packages/pandas/io/parsers.py\u001b[0m in \u001b[0;36mread\u001b[0;34m(self, nrows)\u001b[0m\n\u001b[1;32m   1131\u001b[0m     \u001b[0;32mdef\u001b[0m \u001b[0mread\u001b[0m\u001b[0;34m(\u001b[0m\u001b[0mself\u001b[0m\u001b[0;34m,\u001b[0m \u001b[0mnrows\u001b[0m\u001b[0;34m=\u001b[0m\u001b[0;32mNone\u001b[0m\u001b[0;34m)\u001b[0m\u001b[0;34m:\u001b[0m\u001b[0;34m\u001b[0m\u001b[0;34m\u001b[0m\u001b[0m\n\u001b[1;32m   1132\u001b[0m         \u001b[0mnrows\u001b[0m \u001b[0;34m=\u001b[0m \u001b[0m_validate_integer\u001b[0m\u001b[0;34m(\u001b[0m\u001b[0;34m\"nrows\"\u001b[0m\u001b[0;34m,\u001b[0m \u001b[0mnrows\u001b[0m\u001b[0;34m)\u001b[0m\u001b[0;34m\u001b[0m\u001b[0;34m\u001b[0m\u001b[0m\n\u001b[0;32m-> 1133\u001b[0;31m         \u001b[0mret\u001b[0m \u001b[0;34m=\u001b[0m \u001b[0mself\u001b[0m\u001b[0;34m.\u001b[0m\u001b[0m_engine\u001b[0m\u001b[0;34m.\u001b[0m\u001b[0mread\u001b[0m\u001b[0;34m(\u001b[0m\u001b[0mnrows\u001b[0m\u001b[0;34m)\u001b[0m\u001b[0;34m\u001b[0m\u001b[0;34m\u001b[0m\u001b[0m\n\u001b[0m\u001b[1;32m   1134\u001b[0m \u001b[0;34m\u001b[0m\u001b[0m\n\u001b[1;32m   1135\u001b[0m         \u001b[0;31m# May alter columns / col_dict\u001b[0m\u001b[0;34m\u001b[0m\u001b[0;34m\u001b[0m\u001b[0;34m\u001b[0m\u001b[0m\n",
      "\u001b[0;32m~/miniconda3/envs/ai/lib/python3.6/site-packages/pandas/io/parsers.py\u001b[0m in \u001b[0;36mread\u001b[0;34m(self, nrows)\u001b[0m\n\u001b[1;32m   2035\u001b[0m     \u001b[0;32mdef\u001b[0m \u001b[0mread\u001b[0m\u001b[0;34m(\u001b[0m\u001b[0mself\u001b[0m\u001b[0;34m,\u001b[0m \u001b[0mnrows\u001b[0m\u001b[0;34m=\u001b[0m\u001b[0;32mNone\u001b[0m\u001b[0;34m)\u001b[0m\u001b[0;34m:\u001b[0m\u001b[0;34m\u001b[0m\u001b[0;34m\u001b[0m\u001b[0m\n\u001b[1;32m   2036\u001b[0m         \u001b[0;32mtry\u001b[0m\u001b[0;34m:\u001b[0m\u001b[0;34m\u001b[0m\u001b[0;34m\u001b[0m\u001b[0m\n\u001b[0;32m-> 2037\u001b[0;31m             \u001b[0mdata\u001b[0m \u001b[0;34m=\u001b[0m \u001b[0mself\u001b[0m\u001b[0;34m.\u001b[0m\u001b[0m_reader\u001b[0m\u001b[0;34m.\u001b[0m\u001b[0mread\u001b[0m\u001b[0;34m(\u001b[0m\u001b[0mnrows\u001b[0m\u001b[0;34m)\u001b[0m\u001b[0;34m\u001b[0m\u001b[0;34m\u001b[0m\u001b[0m\n\u001b[0m\u001b[1;32m   2038\u001b[0m         \u001b[0;32mexcept\u001b[0m \u001b[0mStopIteration\u001b[0m\u001b[0;34m:\u001b[0m\u001b[0;34m\u001b[0m\u001b[0;34m\u001b[0m\u001b[0m\n\u001b[1;32m   2039\u001b[0m             \u001b[0;32mif\u001b[0m \u001b[0mself\u001b[0m\u001b[0;34m.\u001b[0m\u001b[0m_first_chunk\u001b[0m\u001b[0;34m:\u001b[0m\u001b[0;34m\u001b[0m\u001b[0;34m\u001b[0m\u001b[0m\n",
      "\u001b[0;32mpandas/_libs/parsers.pyx\u001b[0m in \u001b[0;36mpandas._libs.parsers.TextReader.read\u001b[0;34m()\u001b[0m\n",
      "\u001b[0;32mpandas/_libs/parsers.pyx\u001b[0m in \u001b[0;36mpandas._libs.parsers.TextReader._read_low_memory\u001b[0;34m()\u001b[0m\n",
      "\u001b[0;32mpandas/_libs/parsers.pyx\u001b[0m in \u001b[0;36mpandas._libs.parsers.TextReader._read_rows\u001b[0;34m()\u001b[0m\n",
      "\u001b[0;32mpandas/_libs/parsers.pyx\u001b[0m in \u001b[0;36mpandas._libs.parsers.TextReader._convert_column_data\u001b[0;34m()\u001b[0m\n",
      "\u001b[0;32mpandas/_libs/parsers.pyx\u001b[0m in \u001b[0;36mpandas._libs.parsers.TextReader._convert_tokens\u001b[0;34m()\u001b[0m\n",
      "\u001b[0;32mpandas/_libs/parsers.pyx\u001b[0m in \u001b[0;36mpandas._libs.parsers.TextReader._convert_with_dtype\u001b[0;34m()\u001b[0m\n",
      "\u001b[0;32m~/miniconda3/envs/ai/lib/python3.6/site-packages/pandas/core/dtypes/common.py\u001b[0m in \u001b[0;36mis_categorical_dtype\u001b[0;34m(arr_or_dtype)\u001b[0m\n\u001b[1;32m    540\u001b[0m \u001b[0;34m\u001b[0m\u001b[0m\n\u001b[1;32m    541\u001b[0m \u001b[0;34m\u001b[0m\u001b[0m\n\u001b[0;32m--> 542\u001b[0;31m \u001b[0;32mdef\u001b[0m \u001b[0mis_categorical_dtype\u001b[0m\u001b[0;34m(\u001b[0m\u001b[0marr_or_dtype\u001b[0m\u001b[0;34m)\u001b[0m \u001b[0;34m->\u001b[0m \u001b[0mbool\u001b[0m\u001b[0;34m:\u001b[0m\u001b[0;34m\u001b[0m\u001b[0;34m\u001b[0m\u001b[0m\n\u001b[0m\u001b[1;32m    543\u001b[0m     \"\"\"\n\u001b[1;32m    544\u001b[0m     \u001b[0mCheck\u001b[0m \u001b[0mwhether\u001b[0m \u001b[0man\u001b[0m \u001b[0marray\u001b[0m\u001b[0;34m-\u001b[0m\u001b[0mlike\u001b[0m \u001b[0;32mor\u001b[0m \u001b[0mdtype\u001b[0m \u001b[0;32mis\u001b[0m \u001b[0mof\u001b[0m \u001b[0mthe\u001b[0m \u001b[0mCategorical\u001b[0m \u001b[0mdtype\u001b[0m\u001b[0;34m.\u001b[0m\u001b[0;34m\u001b[0m\u001b[0;34m\u001b[0m\u001b[0m\n",
      "\u001b[0;31mKeyboardInterrupt\u001b[0m: "
     ]
    }
   ],
   "source": [
    "# Acris Data (Supplied from ACRIS_EXTRACT)\n",
    "acris_data = pd.read_csv('acris_consolidated.csv')\n",
    "\n",
    "# LL84 Data (Supplied by Alejandro @ NYU. This can also be supplied by ACRIS_EXTRACT)\n",
    "ll = pd.read_excel('LL84_2020.xlsx') \\\n",
    "     .drop_duplicates(subset=['Property Id']) \\\n",
    "     .set_index('Property Id')"
   ]
  },
  {
   "cell_type": "code",
   "execution_count": null,
   "metadata": {
    "ExecuteTime": {
     "end_time": "2021-03-16T14:27:50.531805Z",
     "start_time": "2021-03-16T14:27:50.480923Z"
    }
   },
   "outputs": [],
   "source": [
    "acris_data.head()"
   ]
  },
  {
   "cell_type": "code",
   "execution_count": null,
   "metadata": {
    "ExecuteTime": {
     "end_time": "2021-03-14T23:15:50.779450Z",
     "start_time": "2021-03-14T23:15:50.630951Z"
    }
   },
   "outputs": [],
   "source": [
    "# Extract just BBLS for matching with ACRIS Data\n",
    "ll_bbls = (ll['BBL - 10 digits']\n",
    "            .replace('Not Available', '0'.zfill(10))\n",
    "            .apply(lambda r: str(r).split(';'))\n",
    "            .explode()\n",
    "            .drop_duplicates()\n",
    "            .rename(columns={'BBL - 10 digits': 'BBL'}\n",
    "            .reset_index()\n",
    "          )\n",
    "\n",
    "# Print out how many BBL matches between LL84 & ACRIS datasets\n",
    "ll_bbls.isin(acris_data.BBL.unique()).sum() / ll_bbls.nunique()"
   ]
  },
  {
   "cell_type": "code",
   "execution_count": null,
   "metadata": {},
   "outputs": [],
   "source": [
    "# Filter out ACRIS records not found in the LL84 BBL's\n",
    "# ~ 35 min\n",
    "acris_data = acris_data.loc[acris_data.BBL.isin(ll_bbls)]"
   ]
  },
  {
   "cell_type": "code",
   "execution_count": null,
   "metadata": {
    "ExecuteTime": {
     "start_time": "2021-01-19T19:30:41.775Z"
    }
   },
   "outputs": [],
   "source": [
    "# Merge ACRIS with LL84 BBLs (quicker to start here and then merge rest of LL84 Data)\n",
    "data = acris_data.merge(ll_bbls, on='BBL')\n",
    "\n",
    "# Merge with full LL84 file\n",
    "data = data.merge(ll, left_on='Property Id', right_index=True)"
   ]
  },
  {
   "cell_type": "code",
   "execution_count": null,
   "metadata": {
    "ExecuteTime": {
     "end_time": "2020-12-16T17:16:58.460658Z",
     "start_time": "2020-12-16T17:10:17.267364Z"
    }
   },
   "outputs": [],
   "source": [
    "# Save Consolidated File to Local\n",
    "data.to_csv('LL84 and ACRIS.csv')"
   ]
  },
  {
   "cell_type": "markdown",
   "metadata": {},
   "source": [
    "# Format Output"
   ]
  },
  {
   "cell_type": "code",
   "execution_count": 4,
   "metadata": {
    "ExecuteTime": {
     "end_time": "2021-03-16T14:32:18.091808Z",
     "start_time": "2021-03-16T14:31:01.363015Z"
    },
    "code_folding": []
   },
   "outputs": [],
   "source": [
    "df = pd.read_csv('LL84 and ACRIS.csv', low_memory=False)\n",
    "\n",
    "cols_to_remove = [\n",
    "    *df.columns[df.columns.str.contains(':')].tolist(),\n",
    "    *df.columns[df.columns.str.contains('good_through')].tolist(),\n",
    "    'Order'\n",
    "]\n",
    "df = df.drop(columns=cols_to_remove)\n",
    "\n",
    "df = df.rename(columns={'BBL': 'doc_bbl'})"
   ]
  },
  {
   "cell_type": "code",
   "execution_count": 9,
   "metadata": {
    "ExecuteTime": {
     "end_time": "2021-03-16T14:52:59.683564Z",
     "start_time": "2021-03-16T14:52:59.659808Z"
    }
   },
   "outputs": [
    {
     "data": {
      "text/plain": [
       "21081"
      ]
     },
     "execution_count": 9,
     "metadata": {},
     "output_type": "execute_result"
    }
   ],
   "source": [
    "df['bbl']"
   ]
  },
  {
   "cell_type": "code",
   "execution_count": null,
   "metadata": {
    "ExecuteTime": {
     "end_time": "2021-03-14T23:28:53.313467Z",
     "start_time": "2021-03-14T23:28:53.179410Z"
    },
    "code_folding": [
     0
    ],
    "scrolled": true
   },
   "outputs": [],
   "source": [
    "# Filter requested cols\n",
    "display_cols = [\n",
    "# LL 84\n",
    "    'Property Id',\n",
    "#     'doc_bbl',\n",
    "#     'Property Name',\n",
    "# #      'Parent Property Id',\n",
    "#     'BBL - 10 digits',\n",
    "#     'NYC Building Identification Number (BIN)',\n",
    "#     'Parent Property Name',\n",
    "#     'City Building',\n",
    "#     'Email',\n",
    "#     'Address 1 (self-reported)',\n",
    "#     'Borough',\n",
    "#     'Postal Code',\n",
    "#     'DOF Gross Floor Area (ft¬≤)',\n",
    "#     'Self-Reported Gross Floor Area (ft¬≤)',\n",
    "#     'Primary Property Type - Self Selected',\n",
    "#     'List of All Property Use Types at Property',\n",
    "#     'Largest Property Use Type',\n",
    "#     'Largest Property Use Type - Gross Floor Area (ft¬≤)',\n",
    "#     '2nd Largest Property Use Type',\n",
    "#     '2nd Largest Property Use - Gross Floor Area (ft¬≤)',\n",
    "#     '3rd Largest Property Use Type',\n",
    "#     '3rd Largest Property Use Type - Gross Floor Area (ft¬≤)',\n",
    "#     'Year Built',\n",
    "#     'Number of Buildings',\n",
    "#     'Occupancy',\n",
    "#     'Latitude',\n",
    "#     'Longitude',\n",
    "#     'Community Board',\n",
    "#     'Council District',\n",
    "#     'Census Tract',\n",
    "#     'NTA',\n",
    "#     'Fuel Oil #1 Use (kBtu)',\n",
    "#     'Fuel Oil #2 Use (kBtu)',\n",
    "#     'Fuel Oil #4 Use (kBtu)',\n",
    "#     'Fuel Oil #5 & 6 Use (kBtu)',\n",
    "#     'Diesel #2 Use (kBtu)',\n",
    "# #   'Kerosene Use (kBtu)',\n",
    "#     'Propane Use (kBtu)',\n",
    "#     'District Steam Use (kBtu)',\n",
    "# #     'District Hot Water Use (kBtu)',\n",
    "# #     'District Chilled Water Use (kBtu)',\n",
    "#     'Natural Gas Use (kBtu)',\n",
    "# #     'Natural Gas Use (therms)',\n",
    "# #     'Weather Normalized Site Natural Gas Use (therms)',\n",
    "# #     'Electricity Use - Grid Purchase (kBtu)',\n",
    "#     'Electricity Use - Grid Purchase (kWh)',\n",
    "#     'Total GHG Emissions (Metric Tons CO2e)',\n",
    "#     'Direct GHG Emissions (Metric Tons CO2e)',\n",
    "#     'Indirect GHG Emissions (Metric Tons CO2e)',\n",
    "#     'ENERGY STAR Score',\n",
    "#     'Site EUI (kBtu/ft¬≤)',\n",
    "    \n",
    "#     Doc cols\n",
    "    'document_id',\n",
    "    'doc_type',\n",
    "    'document_amt',\n",
    "    'recorded_datetime',\n",
    "    \n",
    "#     Party cols\n",
    "    'party_type',\n",
    "    'name',\n",
    "    'address_1',\n",
    "    'zip',\n",
    "]\n",
    "\n",
    "docs = df[display_cols]\n",
    "docs.head().T"
   ]
  },
  {
   "cell_type": "code",
   "execution_count": null,
   "metadata": {
    "ExecuteTime": {
     "end_time": "2021-03-14T23:28:54.821862Z",
     "start_time": "2021-03-14T23:28:54.572986Z"
    }
   },
   "outputs": [],
   "source": [
    "# Pull only MTGE type Docs\n",
    "filtered_docs = docs[(docs.doc_type=='MTGE')] \\\n",
    "         .sort_values(by=['Property Id', 'recorded_datetime'], ascending=False)"
   ]
  },
  {
   "cell_type": "code",
   "execution_count": null,
   "metadata": {
    "ExecuteTime": {
     "end_time": "2021-03-14T23:28:57.191487Z",
     "start_time": "2021-03-14T23:28:56.095104Z"
    }
   },
   "outputs": [],
   "source": [
    "# Pull N documents per Property ID & Party Type.\n",
    "# Example, for each property, pull most recent 5 docs for party 1 and 5 docs for party 2\n",
    "n_docs = 5\n",
    "filtered_docs['doc_idx'] = filtered_docs.groupby(['Property Id', 'party_type']).cumcount().add(1)\n",
    "filtered_docs = filtered_docs[filtered_docs.doc_idx <= n_docs]\n",
    "filtered_docs = filtered_docs.set_index(['Property Id', 'party_type', 'doc_idx']).unstack(level=[0]).T.unstack(level=[0])\n",
    "filtered_docs.head()"
   ]
  },
  {
   "cell_type": "code",
   "execution_count": null,
   "metadata": {
    "ExecuteTime": {
     "end_time": "2021-03-03T14:53:37.156642Z",
     "start_time": "2021-03-03T14:53:18.587975Z"
    }
   },
   "outputs": [],
   "source": [
    "# Alejandro requested that extracted docs simply appended to end of his LL84 XLS\n",
    "# Instead of adding cols back, we'll just reload his file\n",
    "ll = pd.read_excel('LL84_2020.xlsx')\n",
    "ll = ll.merge(filtered_docs, how='left', left_on='Property Id', right_index=True)\n",
    "ll.to_csv('~/Desktop/merged_ll84_parties.csv')"
   ]
  }
 ],
 "metadata": {
  "kernelspec": {
   "display_name": "Python 3",
   "language": "python",
   "name": "python3"
  },
  "language_info": {
   "codemirror_mode": {
    "name": "ipython",
    "version": 3
   },
   "file_extension": ".py",
   "mimetype": "text/x-python",
   "name": "python",
   "nbconvert_exporter": "python",
   "pygments_lexer": "ipython3",
   "version": "3.6.7"
  },
  "toc": {
   "base_numbering": 1,
   "nav_menu": {},
   "number_sections": true,
   "sideBar": true,
   "skip_h1_title": false,
   "title_cell": "Table of Contents",
   "title_sidebar": "Contents",
   "toc_cell": false,
   "toc_position": {},
   "toc_section_display": true,
   "toc_window_display": false
  },
  "varInspector": {
   "cols": {
    "lenName": 16,
    "lenType": 16,
    "lenVar": 40
   },
   "kernels_config": {
    "python": {
     "delete_cmd_postfix": "",
     "delete_cmd_prefix": "del ",
     "library": "var_list.py",
     "varRefreshCmd": "print(var_dic_list())"
    },
    "r": {
     "delete_cmd_postfix": ") ",
     "delete_cmd_prefix": "rm(",
     "library": "var_list.r",
     "varRefreshCmd": "cat(var_dic_list()) "
    }
   },
   "types_to_exclude": [
    "module",
    "function",
    "builtin_function_or_method",
    "instance",
    "_Feature"
   ],
   "window_display": false
  }
 },
 "nbformat": 4,
 "nbformat_minor": 2
}
